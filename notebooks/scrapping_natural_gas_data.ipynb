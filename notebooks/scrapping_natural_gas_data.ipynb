{
 "cells": [
  {
   "cell_type": "markdown",
   "metadata": {},
   "source": [
    "# Scrapping from website\n",
    "\n",
    "The main task is to write a script to get a nice CSV file of natural gas prices.\n",
    "We includ both script and resulting data with CSV file.\n",
    "\n",
    "More detail:\n",
    "\n",
    "    1. Prices should be Henry Hub gas prices from EIA data here: http://www.eia.gov/dnav/ng/hist/rngwhhdm.htm\n",
    "\n",
    "    2. Main data wanted is daily prices.\n",
    "        Bonus points for doing other granularities (e.g. month) - do them in separate CSV files with sensible naming\n",
    "        \n",
    "    3. Resulting CSV should have two columns: Date and Price. You may need to normalize the data to get this and/or work out dates. For months the Date should be the first date of the month.\n",
    "    \n",
    "    4. We want a script for this and we want this script to be in python (we'd allow node or bash or go script at a push but prefer python)\n",
    "        Why a script? Ans: We'll want to run this again and again as they release new data. You could copy and paste data into Excel/Google Docs by hand, and then export the CSV. But that would be tedious, time consuming and error prone to do month after month. We use simple python libraries wherever possible: `requests`, `csv`, `xlrd`.\n",
    "\n",
    "For installing any of this one can simply use \n",
    "\n",
    "\n",
    "    pip install requests\n",
    "    pip install pandas\n",
    "\n",
    "\n",
    "\n",
    "Data source, we are working with: https://www.eia.gov/dnav/ng/hist/rngwhhdm.htm"
   ]
  },
  {
   "cell_type": "markdown",
   "metadata": {},
   "source": [
    "# Monthly price \n",
    "First we get monthly price evolution data from the data source on the page (we use Hint that we can directly copy the link of the file from the page). The content file will be updated with time, but the link we keep.\n",
    "\n",
    "Algorithm:\n",
    "1. first get xls file \n",
    "2. get csv file in requested form"
   ]
  },
  {
   "cell_type": "code",
   "execution_count": 2,
   "metadata": {},
   "outputs": [],
   "source": [
    "import requests\n",
    "dls = \"https://www.eia.gov/dnav/ng/hist_xls/RNGWHHDm.xls\"\n",
    "resp = requests.get(dls)\n",
    "\n",
    "output = open('monthlyprice.xls', 'wb')\n",
    "output.write(resp.content)\n",
    "output.close()"
   ]
  },
  {
   "cell_type": "code",
   "execution_count": 10,
   "metadata": {},
   "outputs": [
    {
     "data": {
      "text/html": [
       "<div>\n",
       "<style scoped>\n",
       "    .dataframe tbody tr th:only-of-type {\n",
       "        vertical-align: middle;\n",
       "    }\n",
       "\n",
       "    .dataframe tbody tr th {\n",
       "        vertical-align: top;\n",
       "    }\n",
       "\n",
       "    .dataframe thead th {\n",
       "        text-align: right;\n",
       "    }\n",
       "</style>\n",
       "<table border=\"1\" class=\"dataframe\">\n",
       "  <thead>\n",
       "    <tr style=\"text-align: right;\">\n",
       "      <th></th>\n",
       "      <th>Back to Contents</th>\n",
       "      <th>Data 1: Henry Hub Natural Gas Spot Price (Dollars per Million Btu)</th>\n",
       "    </tr>\n",
       "  </thead>\n",
       "  <tbody>\n",
       "    <tr>\n",
       "      <th>0</th>\n",
       "      <td>Sourcekey</td>\n",
       "      <td>RNGWHHD</td>\n",
       "    </tr>\n",
       "    <tr>\n",
       "      <th>1</th>\n",
       "      <td>Date</td>\n",
       "      <td>Henry Hub Natural Gas Spot Price (Dollars per ...</td>\n",
       "    </tr>\n",
       "    <tr>\n",
       "      <th>2</th>\n",
       "      <td>1997-01-15 00:00:00</td>\n",
       "      <td>3.45</td>\n",
       "    </tr>\n",
       "    <tr>\n",
       "      <th>3</th>\n",
       "      <td>1997-02-15 00:00:00</td>\n",
       "      <td>2.15</td>\n",
       "    </tr>\n",
       "    <tr>\n",
       "      <th>4</th>\n",
       "      <td>1997-03-15 00:00:00</td>\n",
       "      <td>1.89</td>\n",
       "    </tr>\n",
       "  </tbody>\n",
       "</table>\n",
       "</div>"
      ],
      "text/plain": [
       "      Back to Contents  \\\n",
       "0            Sourcekey   \n",
       "1                 Date   \n",
       "2  1997-01-15 00:00:00   \n",
       "3  1997-02-15 00:00:00   \n",
       "4  1997-03-15 00:00:00   \n",
       "\n",
       "  Data 1: Henry Hub Natural Gas Spot Price (Dollars per Million Btu)  \n",
       "0                                            RNGWHHD                  \n",
       "1  Henry Hub Natural Gas Spot Price (Dollars per ...                  \n",
       "2                                               3.45                  \n",
       "3                                               2.15                  \n",
       "4                                               1.89                  "
      ]
     },
     "execution_count": 10,
     "metadata": {},
     "output_type": "execute_result"
    }
   ],
   "source": [
    "# first way to convert xls to csv\n",
    "import pandas as pd\n",
    "\n",
    "data = pd.read_excel (r'monthlyprice.xls',sheet_name='Data 1')\n",
    "data.head()\n"
   ]
  },
  {
   "cell_type": "markdown",
   "metadata": {},
   "source": [
    "Important comment before we save csv comma separated file format:\n",
    "    1. we see that first column is in date format (each month), \n",
    "    2. we see that first row is not neccesary so we need to change it for the late document we save to csv from pandas"
   ]
  },
  {
   "cell_type": "code",
   "execution_count": 19,
   "metadata": {},
   "outputs": [
    {
     "name": "stdout",
     "output_type": "stream",
     "text": [
      "Index(['Date', 'Price'], dtype='object')\n"
     ]
    },
    {
     "data": {
      "text/html": [
       "<div>\n",
       "<style scoped>\n",
       "    .dataframe tbody tr th:only-of-type {\n",
       "        vertical-align: middle;\n",
       "    }\n",
       "\n",
       "    .dataframe tbody tr th {\n",
       "        vertical-align: top;\n",
       "    }\n",
       "\n",
       "    .dataframe thead th {\n",
       "        text-align: right;\n",
       "    }\n",
       "</style>\n",
       "<table border=\"1\" class=\"dataframe\">\n",
       "  <thead>\n",
       "    <tr style=\"text-align: right;\">\n",
       "      <th></th>\n",
       "      <th>Date</th>\n",
       "      <th>Price</th>\n",
       "    </tr>\n",
       "  </thead>\n",
       "  <tbody>\n",
       "    <tr>\n",
       "      <th>15</th>\n",
       "      <td>1998-02-15</td>\n",
       "      <td>2.23</td>\n",
       "    </tr>\n",
       "    <tr>\n",
       "      <th>16</th>\n",
       "      <td>1998-03-15</td>\n",
       "      <td>2.24</td>\n",
       "    </tr>\n",
       "    <tr>\n",
       "      <th>17</th>\n",
       "      <td>1998-04-15</td>\n",
       "      <td>2.43</td>\n",
       "    </tr>\n",
       "    <tr>\n",
       "      <th>18</th>\n",
       "      <td>1998-05-15</td>\n",
       "      <td>2.14</td>\n",
       "    </tr>\n",
       "    <tr>\n",
       "      <th>19</th>\n",
       "      <td>1998-06-15</td>\n",
       "      <td>2.17</td>\n",
       "    </tr>\n",
       "  </tbody>\n",
       "</table>\n",
       "</div>"
      ],
      "text/plain": [
       "         Date Price\n",
       "15 1998-02-15  2.23\n",
       "16 1998-03-15  2.24\n",
       "17 1998-04-15  2.43\n",
       "18 1998-05-15  2.14\n",
       "19 1998-06-15  2.17"
      ]
     },
     "execution_count": 19,
     "metadata": {},
     "output_type": "execute_result"
    }
   ],
   "source": [
    "from datetime import datetime\n",
    "\n",
    "\n",
    "# delet first rows of data \n",
    "data = data.iloc[2:]\n",
    "\n",
    "print(data.columns)\n",
    "#rename columns \n",
    "data.columns = ['Date', 'Price']\n",
    "\n",
    "# make column Date in datetime format\n",
    "data['Date'] = pd.to_datetime(data['Date'])\n",
    "\n",
    "data.head()"
   ]
  },
  {
   "cell_type": "code",
   "execution_count": 20,
   "metadata": {},
   "outputs": [],
   "source": [
    "data.to_csv(r'monthlyprice_1.csv')#, index = None, header=True)\n"
   ]
  },
  {
   "cell_type": "code",
   "execution_count": 9,
   "metadata": {},
   "outputs": [
    {
     "data": {
      "text/plain": [
       "<_io.TextIOWrapper name='monthlypricetest.csv' mode='w' encoding='utf8'>"
      ]
     },
     "execution_count": 9,
     "metadata": {},
     "output_type": "execute_result"
    }
   ],
   "source": [
    "# transform XLS to CSV \n",
    "\n",
    "\n",
    "import xlrd\n",
    "import csv\n",
    "\n",
    "def csv_from_xsl(wb,sh):\n",
    "    ''' given names of xls file and sheet name sh produce csv files'''\n",
    "\n",
    "    your_csv_file = open('monthlyprice.csv', 'w', encoding='utf8')\n",
    "    wr = csv.writer(your_csv_file, quoting=csv.QUOTE_ALL)\n",
    "\n",
    "    for rownum in range(sh.nrows):\n",
    "        wr.writerow(sh.row_values(rownum))\n",
    "\n",
    "    your_csv_file.close()\n",
    "    \n",
    "    \n",
    "\n",
    "\n",
    "wb = xlrd.open_workbook('monthlyprice.xls')\n",
    "sh = wb.sheet_by_name('Data 1')\n",
    "\n",
    "csv_from_xsl(wb,sh)   \n",
    "    "
   ]
  },
  {
   "cell_type": "markdown",
   "metadata": {},
   "source": [
    "# Data cleaning \n",
    "We want all data csv files to be in format of \n",
    "            first column (time), second column (price) starting from the first row (column names) and then data."
   ]
  },
  {
   "cell_type": "code",
   "execution_count": null,
   "metadata": {},
   "outputs": [],
   "source": []
  },
  {
   "cell_type": "markdown",
   "metadata": {},
   "source": [
    "# Data for daily price evolution \n",
    "We want to have other granularities (e.g. month) - do them in separate CSV files with corresponding naming `dailyprice.csv`."
   ]
  },
  {
   "cell_type": "code",
   "execution_count": null,
   "metadata": {},
   "outputs": [],
   "source": [
    "import requests\n",
    "dls = \"https://www.eia.gov/dnav/ng/hist_xls/RNGWHHDm.xls\"\n",
    "resp = requests.get(dls)\n",
    "\n",
    "output = open('dailyprice.xls', 'wb')\n",
    "output.write(resp.content)\n",
    "output.close()\n",
    "\n",
    "https://www.eia.gov/dnav/ng/hist_xls/RNGWHHDd.xls"
   ]
  },
  {
   "cell_type": "markdown",
   "metadata": {},
   "source": [
    "# Using beautifulsoup"
   ]
  },
  {
   "cell_type": "code",
   "execution_count": 5,
   "metadata": {},
   "outputs": [],
   "source": [
    "import os\n",
    "from bs4 import BeautifulSoup\n",
    "# Python 3.x\n",
    "from urllib.request import urlopen, urlretrieve\n",
    "\n",
    "URL = 'https://www.rbi.org.in/Scripts/bs_viewcontent.aspx?Id=2009'\n",
    "OUTPUT_DIR = ''  # path to output folder, '.' or '' uses current folder\n",
    "\n",
    "u = urlopen(URL)\n",
    "try:\n",
    "    html = u.read().decode('utf-8')\n",
    "finally:\n",
    "    u.close()\n",
    "\n",
    "soup = BeautifulSoup(html, \"html.parser\")\n",
    "for link in soup.select('a[href^=\"http://\"]'):\n",
    "    href = link.get('href')\n",
    "    if not any(href.endswith(x) for x in ['.csv','.xls','.xlsx']):\n",
    "        continue\n",
    "\n",
    "    filename = os.path.join(OUTPUT_DIR, href.rsplit('/', 1)[-1])\n",
    "\n",
    "    # We need a https:// URL for this site\n",
    "    href = href.replace('http://','https://')\n",
    "\n",
    "    print(\"Downloading %s to %s...\" % (href, filename) )\n",
    "    urlretrieve(href, filename)\n",
    "    print(\"Done.\")    \n"
   ]
  },
  {
   "cell_type": "code",
   "execution_count": 4,
   "metadata": {},
   "outputs": [],
   "source": [
    "import os\n",
    "from bs4 import BeautifulSoup\n",
    "# Python 3.x\n",
    "from urllib.request import urlopen, urlretrieve\n",
    "\n",
    "URL = 'https://www.eia.gov/dnav/ng/hist/rngwhhdm.htm'\n",
    "OUTPUT_DIR = ''  # path to output folder, '.' or '' uses current folder\n",
    "\n",
    "u = urlopen(URL)\n",
    "try:\n",
    "    html = u.read().decode('utf-8')\n",
    "finally:\n",
    "    u.close()\n",
    "\n",
    "\n",
    "soup = BeautifulSoup(html, \"html.parser\")\n",
    "for link in soup.select('a[href^=\"http://\"]'):\n",
    "    href = link.get('href')\n",
    "    if not any(href.endswith(x) for x in ['.csv','.xls','.xlsx']):\n",
    "        continue\n",
    "\n",
    "    filename = os.path.join(OUTPUT_DIR, href.rsplit('/', 1)[-1])\n",
    "\n",
    "    # We need a https:// URL for this site\n",
    "    href = href.replace('http://','https://')\n",
    "\n",
    "    print(\"Downloading %s to %s...\" % (href, filename) )\n",
    "    urlretrieve(href, filename)\n",
    "    print(\"Done.\")"
   ]
  },
  {
   "cell_type": "code",
   "execution_count": null,
   "metadata": {},
   "outputs": [],
   "source": []
  }
 ],
 "metadata": {
  "kernelspec": {
   "display_name": "Python 3",
   "language": "python",
   "name": "python3"
  },
  "language_info": {
   "codemirror_mode": {
    "name": "ipython",
    "version": 3
   },
   "file_extension": ".py",
   "mimetype": "text/x-python",
   "name": "python",
   "nbconvert_exporter": "python",
   "pygments_lexer": "ipython3",
   "version": "3.7.3"
  }
 },
 "nbformat": 4,
 "nbformat_minor": 4
}
